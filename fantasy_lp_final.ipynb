{
 "cells": [
  {
   "cell_type": "code",
   "execution_count": 1,
   "metadata": {},
   "outputs": [],
   "source": [
    "import urllib, json\n",
    "import pandas as pd\n",
    "import re\n",
    "from itertools import permutations\n",
    "\n",
    "from pulp import *"
   ]
  },
  {
   "cell_type": "markdown",
   "metadata": {},
   "source": [
    "# Fantasy Football Using Linear Progamming\n",
    "\n",
    "I'll be using python, pandas and PuLP to make my decision. We'll be working off the naive assumption that whatever the person scored last time, he will score this time and we'll optimize for the highest possible score given our salary and position constraints.\n",
    "\n",
    "First we have to download and clean up the data a bit."
   ]
  },
  {
   "cell_type": "code",
   "execution_count": 2,
   "metadata": {},
   "outputs": [],
   "source": [
    "LATEST_URL = \"https://api.draftkings.com/draftgroups/v1/draftgroups/21434/draftables?format=json\""
   ]
  },
  {
   "cell_type": "code",
   "execution_count": 3,
   "metadata": {},
   "outputs": [],
   "source": [
    "response = urllib.request.urlopen(LATEST_URL)\n",
    "data = json.loads(response.read())\n",
    "current = pd.DataFrame.from_dict(data[\"draftables\"])"
   ]
  },
  {
   "cell_type": "markdown",
   "metadata": {},
   "source": [
    "DraftKings has a Flex position that can be filled by any running back, wide receiver or tight end. Generally a player can only fill one role, so we need to add those eligible to the flex position back to our data frame and label them as position \"FLEX\". \n",
    "\n",
    "The previous points the player scored is nested inside a \"draftStatAttributes\" field. For instance:"
   ]
  },
  {
   "cell_type": "code",
   "execution_count": 4,
   "metadata": {},
   "outputs": [],
   "source": [
    "# Remove players that are out or questionable\n",
    "current = current[current.status == \"None\"]\n",
    "\n",
    "# Add flex position\n",
    "flex = current[current.position.isin([\"RB\",\"WR\",\"TE\"])].copy()\n",
    "flex.position = \"FLEX\"\n",
    "\n",
    "current = pd.concat([current, flex])"
   ]
  },
  {
   "cell_type": "code",
   "execution_count": 5,
   "metadata": {},
   "outputs": [
    {
     "data": {
      "text/html": [
       "<div>\n",
       "<style scoped>\n",
       "    .dataframe tbody tr th:only-of-type {\n",
       "        vertical-align: middle;\n",
       "    }\n",
       "\n",
       "    .dataframe tbody tr th {\n",
       "        vertical-align: top;\n",
       "    }\n",
       "\n",
       "    .dataframe thead th {\n",
       "        text-align: right;\n",
       "    }\n",
       "</style>\n",
       "<table border=\"1\" class=\"dataframe\">\n",
       "  <thead>\n",
       "    <tr style=\"text-align: right;\">\n",
       "      <th></th>\n",
       "      <th>competition</th>\n",
       "      <th>displayName</th>\n",
       "      <th>draftAlerts</th>\n",
       "      <th>draftStatAttributes</th>\n",
       "      <th>draftableId</th>\n",
       "      <th>firstName</th>\n",
       "      <th>isDisabled</th>\n",
       "      <th>isSwappable</th>\n",
       "      <th>lastName</th>\n",
       "      <th>newsStatus</th>\n",
       "      <th>...</th>\n",
       "      <th>playerImage50</th>\n",
       "      <th>playerImage65</th>\n",
       "      <th>playerImageFull</th>\n",
       "      <th>position</th>\n",
       "      <th>rosterSlotId</th>\n",
       "      <th>salary</th>\n",
       "      <th>shortName</th>\n",
       "      <th>status</th>\n",
       "      <th>teamAbbreviation</th>\n",
       "      <th>teamId</th>\n",
       "    </tr>\n",
       "  </thead>\n",
       "  <tbody>\n",
       "    <tr>\n",
       "      <th>0</th>\n",
       "      <td>{'competitionId': 5523589, 'name': 'CLE @ NO',...</td>\n",
       "      <td>Alvin Kamara</td>\n",
       "      <td>[]</td>\n",
       "      <td>[{'id': 90, 'value': '32.0', 'sortValue': '32....</td>\n",
       "      <td>11239044</td>\n",
       "      <td>Alvin</td>\n",
       "      <td>False</td>\n",
       "      <td>False</td>\n",
       "      <td>Kamara</td>\n",
       "      <td>Breaking</td>\n",
       "      <td>...</td>\n",
       "      <td>https://d327rxwuxd0q0c.cloudfront.net/m/nfl_50...</td>\n",
       "      <td>https://d327rxwuxd0q0c.cloudfront.net/m/nfl_65...</td>\n",
       "      <td>https://d327rxwuxd0q0c.cloudfront.net/nfl/play...</td>\n",
       "      <td>RB</td>\n",
       "      <td>67</td>\n",
       "      <td>9500</td>\n",
       "      <td>A. Kamara</td>\n",
       "      <td>None</td>\n",
       "      <td>NO</td>\n",
       "      <td>350</td>\n",
       "    </tr>\n",
       "    <tr>\n",
       "      <th>1</th>\n",
       "      <td>{'competitionId': 5523589, 'name': 'CLE @ NO',...</td>\n",
       "      <td>Alvin Kamara</td>\n",
       "      <td>[]</td>\n",
       "      <td>[{'id': 90, 'value': '32.0', 'sortValue': '32....</td>\n",
       "      <td>11239045</td>\n",
       "      <td>Alvin</td>\n",
       "      <td>False</td>\n",
       "      <td>False</td>\n",
       "      <td>Kamara</td>\n",
       "      <td>Breaking</td>\n",
       "      <td>...</td>\n",
       "      <td>https://d327rxwuxd0q0c.cloudfront.net/m/nfl_50...</td>\n",
       "      <td>https://d327rxwuxd0q0c.cloudfront.net/m/nfl_65...</td>\n",
       "      <td>https://d327rxwuxd0q0c.cloudfront.net/nfl/play...</td>\n",
       "      <td>RB</td>\n",
       "      <td>70</td>\n",
       "      <td>9500</td>\n",
       "      <td>A. Kamara</td>\n",
       "      <td>None</td>\n",
       "      <td>NO</td>\n",
       "      <td>350</td>\n",
       "    </tr>\n",
       "    <tr>\n",
       "      <th>6</th>\n",
       "      <td>{'competitionId': 5523565, 'name': 'KC @ PIT',...</td>\n",
       "      <td>Antonio Brown</td>\n",
       "      <td>[]</td>\n",
       "      <td>[{'id': 90, 'value': '20.0', 'sortValue': '20....</td>\n",
       "      <td>11239276</td>\n",
       "      <td>Antonio</td>\n",
       "      <td>False</td>\n",
       "      <td>False</td>\n",
       "      <td>Brown</td>\n",
       "      <td>Breaking</td>\n",
       "      <td>...</td>\n",
       "      <td>https://d327rxwuxd0q0c.cloudfront.net/m/nfl_50...</td>\n",
       "      <td>https://d327rxwuxd0q0c.cloudfront.net/m/nfl_65...</td>\n",
       "      <td>https://d327rxwuxd0q0c.cloudfront.net/nfl/play...</td>\n",
       "      <td>WR</td>\n",
       "      <td>68</td>\n",
       "      <td>8800</td>\n",
       "      <td>A. Brown</td>\n",
       "      <td>None</td>\n",
       "      <td>PIT</td>\n",
       "      <td>356</td>\n",
       "    </tr>\n",
       "    <tr>\n",
       "      <th>7</th>\n",
       "      <td>{'competitionId': 5523565, 'name': 'KC @ PIT',...</td>\n",
       "      <td>Antonio Brown</td>\n",
       "      <td>[]</td>\n",
       "      <td>[{'id': 90, 'value': '20.0', 'sortValue': '20....</td>\n",
       "      <td>11239277</td>\n",
       "      <td>Antonio</td>\n",
       "      <td>False</td>\n",
       "      <td>False</td>\n",
       "      <td>Brown</td>\n",
       "      <td>Breaking</td>\n",
       "      <td>...</td>\n",
       "      <td>https://d327rxwuxd0q0c.cloudfront.net/m/nfl_50...</td>\n",
       "      <td>https://d327rxwuxd0q0c.cloudfront.net/m/nfl_65...</td>\n",
       "      <td>https://d327rxwuxd0q0c.cloudfront.net/nfl/play...</td>\n",
       "      <td>WR</td>\n",
       "      <td>70</td>\n",
       "      <td>8800</td>\n",
       "      <td>A. Brown</td>\n",
       "      <td>None</td>\n",
       "      <td>PIT</td>\n",
       "      <td>356</td>\n",
       "    </tr>\n",
       "    <tr>\n",
       "      <th>8</th>\n",
       "      <td>{'competitionId': 5523589, 'name': 'CLE @ NO',...</td>\n",
       "      <td>Michael Thomas</td>\n",
       "      <td>[]</td>\n",
       "      <td>[{'id': 90, 'value': '37.0', 'sortValue': '37....</td>\n",
       "      <td>11239278</td>\n",
       "      <td>Michael</td>\n",
       "      <td>False</td>\n",
       "      <td>False</td>\n",
       "      <td>Thomas</td>\n",
       "      <td>Recent</td>\n",
       "      <td>...</td>\n",
       "      <td>https://d327rxwuxd0q0c.cloudfront.net/m/nfl_50...</td>\n",
       "      <td>https://d327rxwuxd0q0c.cloudfront.net/m/nfl_65...</td>\n",
       "      <td>https://d327rxwuxd0q0c.cloudfront.net/nfl/play...</td>\n",
       "      <td>WR</td>\n",
       "      <td>68</td>\n",
       "      <td>8600</td>\n",
       "      <td>M. Thomas</td>\n",
       "      <td>None</td>\n",
       "      <td>NO</td>\n",
       "      <td>350</td>\n",
       "    </tr>\n",
       "  </tbody>\n",
       "</table>\n",
       "<p>5 rows × 25 columns</p>\n",
       "</div>"
      ],
      "text/plain": [
       "                                         competition     displayName  \\\n",
       "0  {'competitionId': 5523589, 'name': 'CLE @ NO',...    Alvin Kamara   \n",
       "1  {'competitionId': 5523589, 'name': 'CLE @ NO',...    Alvin Kamara   \n",
       "6  {'competitionId': 5523565, 'name': 'KC @ PIT',...   Antonio Brown   \n",
       "7  {'competitionId': 5523565, 'name': 'KC @ PIT',...   Antonio Brown   \n",
       "8  {'competitionId': 5523589, 'name': 'CLE @ NO',...  Michael Thomas   \n",
       "\n",
       "  draftAlerts                                draftStatAttributes  draftableId  \\\n",
       "0          []  [{'id': 90, 'value': '32.0', 'sortValue': '32....     11239044   \n",
       "1          []  [{'id': 90, 'value': '32.0', 'sortValue': '32....     11239045   \n",
       "6          []  [{'id': 90, 'value': '20.0', 'sortValue': '20....     11239276   \n",
       "7          []  [{'id': 90, 'value': '20.0', 'sortValue': '20....     11239277   \n",
       "8          []  [{'id': 90, 'value': '37.0', 'sortValue': '37....     11239278   \n",
       "\n",
       "  firstName  isDisabled  isSwappable lastName newsStatus   ...    \\\n",
       "0     Alvin       False        False   Kamara   Breaking   ...     \n",
       "1     Alvin       False        False   Kamara   Breaking   ...     \n",
       "6   Antonio       False        False    Brown   Breaking   ...     \n",
       "7   Antonio       False        False    Brown   Breaking   ...     \n",
       "8   Michael       False        False   Thomas     Recent   ...     \n",
       "\n",
       "                                       playerImage50  \\\n",
       "0  https://d327rxwuxd0q0c.cloudfront.net/m/nfl_50...   \n",
       "1  https://d327rxwuxd0q0c.cloudfront.net/m/nfl_50...   \n",
       "6  https://d327rxwuxd0q0c.cloudfront.net/m/nfl_50...   \n",
       "7  https://d327rxwuxd0q0c.cloudfront.net/m/nfl_50...   \n",
       "8  https://d327rxwuxd0q0c.cloudfront.net/m/nfl_50...   \n",
       "\n",
       "                                       playerImage65  \\\n",
       "0  https://d327rxwuxd0q0c.cloudfront.net/m/nfl_65...   \n",
       "1  https://d327rxwuxd0q0c.cloudfront.net/m/nfl_65...   \n",
       "6  https://d327rxwuxd0q0c.cloudfront.net/m/nfl_65...   \n",
       "7  https://d327rxwuxd0q0c.cloudfront.net/m/nfl_65...   \n",
       "8  https://d327rxwuxd0q0c.cloudfront.net/m/nfl_65...   \n",
       "\n",
       "                                     playerImageFull  position rosterSlotId  \\\n",
       "0  https://d327rxwuxd0q0c.cloudfront.net/nfl/play...        RB           67   \n",
       "1  https://d327rxwuxd0q0c.cloudfront.net/nfl/play...        RB           70   \n",
       "6  https://d327rxwuxd0q0c.cloudfront.net/nfl/play...        WR           68   \n",
       "7  https://d327rxwuxd0q0c.cloudfront.net/nfl/play...        WR           70   \n",
       "8  https://d327rxwuxd0q0c.cloudfront.net/nfl/play...        WR           68   \n",
       "\n",
       "  salary  shortName status teamAbbreviation  teamId  \n",
       "0   9500  A. Kamara   None               NO     350  \n",
       "1   9500  A. Kamara   None               NO     350  \n",
       "6   8800   A. Brown   None              PIT     356  \n",
       "7   8800   A. Brown   None              PIT     356  \n",
       "8   8600  M. Thomas   None               NO     350  \n",
       "\n",
       "[5 rows x 25 columns]"
      ]
     },
     "execution_count": 5,
     "metadata": {},
     "output_type": "execute_result"
    }
   ],
   "source": [
    "current.head()"
   ]
  },
  {
   "cell_type": "markdown",
   "metadata": {},
   "source": [
    "The previous points the player scored is nested inside a \"draftStatAttributes\" field. For some reason its in a list. What we want is the \"value\" float in the list. It's not always the first element so we need to extract that."
   ]
  },
  {
   "cell_type": "code",
   "execution_count": 6,
   "metadata": {},
   "outputs": [],
   "source": [
    "def get_float(l, key):\n",
    "    \"\"\" Returns first float value from a list of dictionaries based on key. Defaults to 0.0 \"\"\"\n",
    "    for d in l:\n",
    "        try:\n",
    "            return float(d.get(key))\n",
    "        except:\n",
    "            pass\n",
    "    return 0.0"
   ]
  },
  {
   "cell_type": "code",
   "execution_count": 7,
   "metadata": {},
   "outputs": [],
   "source": [
    "points = [get_float(x, \"value\") for x in current.draftStatAttributes]\n",
    "current[\"points\"] = points"
   ]
  },
  {
   "cell_type": "markdown",
   "metadata": {},
   "source": [
    "We now have everything we need. A few of the records are duplicated, so we can just trim everything down and group by the fields we need: position, displayName, salary and points."
   ]
  },
  {
   "cell_type": "code",
   "execution_count": 8,
   "metadata": {},
   "outputs": [],
   "source": [
    "availables = current[[\"position\", \"displayName\", \"salary\", \"points\"]].groupby([\"position\", \"displayName\", \"salary\", \"points\"]).agg(\"count\")\n",
    "availables = availables.reset_index()"
   ]
  },
  {
   "cell_type": "code",
   "execution_count": 9,
   "metadata": {},
   "outputs": [
    {
     "data": {
      "text/html": [
       "<div>\n",
       "<style scoped>\n",
       "    .dataframe tbody tr th:only-of-type {\n",
       "        vertical-align: middle;\n",
       "    }\n",
       "\n",
       "    .dataframe tbody tr th {\n",
       "        vertical-align: top;\n",
       "    }\n",
       "\n",
       "    .dataframe thead th {\n",
       "        text-align: right;\n",
       "    }\n",
       "</style>\n",
       "<table border=\"1\" class=\"dataframe\">\n",
       "  <thead>\n",
       "    <tr style=\"text-align: right;\">\n",
       "      <th></th>\n",
       "      <th>position</th>\n",
       "      <th>displayName</th>\n",
       "      <th>salary</th>\n",
       "      <th>points</th>\n",
       "    </tr>\n",
       "  </thead>\n",
       "  <tbody>\n",
       "    <tr>\n",
       "      <th>328</th>\n",
       "      <td>QB</td>\n",
       "      <td>AJ McCarron</td>\n",
       "      <td>4600</td>\n",
       "      <td>0.0</td>\n",
       "    </tr>\n",
       "    <tr>\n",
       "      <th>329</th>\n",
       "      <td>QB</td>\n",
       "      <td>Aaron Rodgers</td>\n",
       "      <td>6800</td>\n",
       "      <td>20.5</td>\n",
       "    </tr>\n",
       "    <tr>\n",
       "      <th>330</th>\n",
       "      <td>QB</td>\n",
       "      <td>Alex Smith</td>\n",
       "      <td>6000</td>\n",
       "      <td>16.3</td>\n",
       "    </tr>\n",
       "    <tr>\n",
       "      <th>331</th>\n",
       "      <td>QB</td>\n",
       "      <td>Andrew Luck</td>\n",
       "      <td>6200</td>\n",
       "      <td>18.4</td>\n",
       "    </tr>\n",
       "    <tr>\n",
       "      <th>332</th>\n",
       "      <td>QB</td>\n",
       "      <td>Baker Mayfield</td>\n",
       "      <td>4600</td>\n",
       "      <td>0.0</td>\n",
       "    </tr>\n",
       "    <tr>\n",
       "      <th>333</th>\n",
       "      <td>QB</td>\n",
       "      <td>Ben Roethlisberger</td>\n",
       "      <td>6900</td>\n",
       "      <td>29.5</td>\n",
       "    </tr>\n",
       "    <tr>\n",
       "      <th>334</th>\n",
       "      <td>QB</td>\n",
       "      <td>Blaine Gabbert</td>\n",
       "      <td>4700</td>\n",
       "      <td>6.3</td>\n",
       "    </tr>\n",
       "    <tr>\n",
       "      <th>335</th>\n",
       "      <td>QB</td>\n",
       "      <td>Blake Bortles</td>\n",
       "      <td>5400</td>\n",
       "      <td>14.2</td>\n",
       "    </tr>\n",
       "    <tr>\n",
       "      <th>336</th>\n",
       "      <td>QB</td>\n",
       "      <td>Brandon Weeden</td>\n",
       "      <td>4600</td>\n",
       "      <td>0.0</td>\n",
       "    </tr>\n",
       "    <tr>\n",
       "      <th>337</th>\n",
       "      <td>QB</td>\n",
       "      <td>Brian Hoyer</td>\n",
       "      <td>4500</td>\n",
       "      <td>0.0</td>\n",
       "    </tr>\n",
       "    <tr>\n",
       "      <th>338</th>\n",
       "      <td>QB</td>\n",
       "      <td>Brock Osweiler</td>\n",
       "      <td>4500</td>\n",
       "      <td>0.0</td>\n",
       "    </tr>\n",
       "    <tr>\n",
       "      <th>339</th>\n",
       "      <td>QB</td>\n",
       "      <td>C.J. Beathard</td>\n",
       "      <td>4400</td>\n",
       "      <td>0.0</td>\n",
       "    </tr>\n",
       "    <tr>\n",
       "      <th>340</th>\n",
       "      <td>QB</td>\n",
       "      <td>Cam Newton</td>\n",
       "      <td>6600</td>\n",
       "      <td>24.9</td>\n",
       "    </tr>\n",
       "    <tr>\n",
       "      <th>341</th>\n",
       "      <td>QB</td>\n",
       "      <td>Case Keenum</td>\n",
       "      <td>5800</td>\n",
       "      <td>25.2</td>\n",
       "    </tr>\n",
       "    <tr>\n",
       "      <th>342</th>\n",
       "      <td>QB</td>\n",
       "      <td>Chad Henne</td>\n",
       "      <td>4500</td>\n",
       "      <td>0.0</td>\n",
       "    </tr>\n",
       "  </tbody>\n",
       "</table>\n",
       "</div>"
      ],
      "text/plain": [
       "    position         displayName  salary  points\n",
       "328       QB         AJ McCarron    4600     0.0\n",
       "329       QB       Aaron Rodgers    6800    20.5\n",
       "330       QB          Alex Smith    6000    16.3\n",
       "331       QB         Andrew Luck    6200    18.4\n",
       "332       QB      Baker Mayfield    4600     0.0\n",
       "333       QB  Ben Roethlisberger    6900    29.5\n",
       "334       QB      Blaine Gabbert    4700     6.3\n",
       "335       QB       Blake Bortles    5400    14.2\n",
       "336       QB      Brandon Weeden    4600     0.0\n",
       "337       QB         Brian Hoyer    4500     0.0\n",
       "338       QB      Brock Osweiler    4500     0.0\n",
       "339       QB       C.J. Beathard    4400     0.0\n",
       "340       QB          Cam Newton    6600    24.9\n",
       "341       QB         Case Keenum    5800    25.2\n",
       "342       QB          Chad Henne    4500     0.0"
      ]
     },
     "execution_count": 9,
     "metadata": {},
     "output_type": "execute_result"
    }
   ],
   "source": [
    "availables[availables.position==\"QB\"].head(15)"
   ]
  },
  {
   "cell_type": "markdown",
   "metadata": {},
   "source": [
    "Since we have a constraint on position (i.e. only one QB, two RB, etc), we need to pivot our salaries and points on position. We also need to define the number of each position we will be constrained to."
   ]
  },
  {
   "cell_type": "code",
   "execution_count": 10,
   "metadata": {},
   "outputs": [],
   "source": [
    "salaries = {}\n",
    "points = {}\n",
    "for pos in availables.position.unique():\n",
    "    available_pos = availables[availables.position == pos]\n",
    "    salary = list(available_pos[[\"displayName\",\"salary\"]].set_index(\"displayName\").to_dict().values())[0]\n",
    "    point = list(available_pos[[\"displayName\",\"points\"]].set_index(\"displayName\").to_dict().values())[0]\n",
    "    salaries[pos] = salary\n",
    "    points[pos] = point\n",
    "\n",
    "pos_num_available = {\n",
    "    \"QB\": 1,\n",
    "    \"RB\": 2,\n",
    "    \"WR\": 3,\n",
    "    \"TE\": 1,\n",
    "    \"FLEX\": 1,\n",
    "    \"DST\": 1\n",
    "}"
   ]
  },
  {
   "cell_type": "code",
   "execution_count": 11,
   "metadata": {},
   "outputs": [],
   "source": [
    "pos_num_available = {\n",
    "    \"QB\": 1,\n",
    "    \"RB\": 2,\n",
    "    \"WR\": 3,\n",
    "    \"TE\": 1,\n",
    "    \"FLEX\": 1,\n",
    "    \"DST\": 1\n",
    "}"
   ]
  },
  {
   "cell_type": "markdown",
   "metadata": {},
   "source": [
    "If we look at the salaries variable, it's just a dictionary of player names and salaries pivoted on position. points is the same."
   ]
  },
  {
   "cell_type": "code",
   "execution_count": 12,
   "metadata": {},
   "outputs": [
    {
     "data": {
      "text/plain": [
       "{'49ers ': 2800,\n",
       " 'Bills ': 2100,\n",
       " 'Broncos ': 3300,\n",
       " 'Browns ': 2000,\n",
       " 'Buccaneers ': 2200,\n",
       " 'Cardinals ': 2100,\n",
       " 'Chargers ': 3600,\n",
       " 'Chiefs ': 2200,\n",
       " 'Colts ': 2300,\n",
       " 'Dolphins ': 3100,\n",
       " 'Eagles ': 3400,\n",
       " 'Falcons ': 2700,\n",
       " 'Jaguars ': 2800,\n",
       " 'Jets ': 2500,\n",
       " 'Lions ': 2300,\n",
       " 'Packers ': 2500,\n",
       " 'Panthers ': 2900,\n",
       " 'Patriots ': 3000,\n",
       " 'Raiders ': 2300,\n",
       " 'Rams ': 3700,\n",
       " 'Redskins ': 2700,\n",
       " 'Saints ': 3200,\n",
       " 'Steelers ': 2700,\n",
       " 'Texans ': 2600,\n",
       " 'Titans ': 2400,\n",
       " 'Vikings ': 2600}"
      ]
     },
     "execution_count": 12,
     "metadata": {},
     "output_type": "execute_result"
    }
   ],
   "source": [
    "salaries[\"DST\"]"
   ]
  },
  {
   "cell_type": "code",
   "execution_count": 13,
   "metadata": {},
   "outputs": [],
   "source": [
    "SALARY_CAP = 50000"
   ]
  },
  {
   "cell_type": "markdown",
   "metadata": {},
   "source": [
    "Now we have to define our variables. We want a variables for each position (e.g. QB). There will be an index for each player and the variable will be binary (0 or 1) meant to represent whether the player is included or excluded."
   ]
  },
  {
   "cell_type": "code",
   "execution_count": 14,
   "metadata": {},
   "outputs": [],
   "source": [
    "_vars = {k: LpVariable.dict(k, v, cat=\"Binary\") for k, v in points.items()}"
   ]
  },
  {
   "cell_type": "markdown",
   "metadata": {},
   "source": [
    "Now we can setup our problem. Our cost will just be our salaries indexed for the player times 0 if we are choosing that player and 1 if we're not. Same is true for our reward. And finally we have a constraint on the positions available that we had defined earlier."
   ]
  },
  {
   "cell_type": "code",
   "execution_count": 15,
   "metadata": {},
   "outputs": [],
   "source": [
    "prob = LpProblem(\"Fantasy\", LpMaximize)\n",
    "rewards = []\n",
    "costs = []\n",
    "position_constraints = []\n",
    "\n",
    "# Setting up the reward\n",
    "for k, v in _vars.items():\n",
    "    costs += lpSum([salaries[k][i] * _vars[k][i] for i in v])\n",
    "    rewards += lpSum([points[k][i] * _vars[k][i] for i in v])\n",
    "    prob += lpSum([_vars[k][i] for i in v]) <= pos_num_available[k]\n",
    "    \n",
    "prob += lpSum(rewards)\n",
    "prob += lpSum(costs) <= SALARY_CAP\n"
   ]
  },
  {
   "cell_type": "code",
   "execution_count": 16,
   "metadata": {},
   "outputs": [
    {
     "data": {
      "text/plain": [
       "1"
      ]
     },
     "execution_count": 16,
     "metadata": {},
     "output_type": "execute_result"
    }
   ],
   "source": [
    "prob.solve()"
   ]
  },
  {
   "cell_type": "markdown",
   "metadata": {},
   "source": [
    "The prob object is now solved. It has a variables function that has all our variables and each variable has a varValue which will be either 0 or 1. Below is a helper function to display the results."
   ]
  },
  {
   "cell_type": "code",
   "execution_count": 17,
   "metadata": {},
   "outputs": [],
   "source": [
    "def summary(prob):\n",
    "    div = '---------------------------------------\\n'\n",
    "    print(\"Variables:\\n\")\n",
    "    score = str(prob.objective)\n",
    "    constraints = [str(const) for const in prob.constraints.values()]\n",
    "    for v in prob.variables():\n",
    "        score = score.replace(v.name, str(v.varValue))\n",
    "        constraints = [const.replace(v.name, str(v.varValue)) for const in constraints]\n",
    "        if v.varValue != 0:\n",
    "            print(v.name, \"=\", v.varValue)\n",
    "    print(div)\n",
    "    print(\"Constraints:\")\n",
    "    for constraint in constraints:\n",
    "        constraint_pretty = \" + \".join(re.findall(\"[0-9\\.]*\\*1.0\", constraint))\n",
    "        if constraint_pretty != \"\":\n",
    "            print(\"{} = {}\".format(constraint_pretty, eval(constraint_pretty)))\n",
    "    print(div)\n",
    "    print(\"Score:\")\n",
    "    score_pretty = \" + \".join(re.findall(\"[0-9\\.]+\\*1.0\", score))\n",
    "    print(\"{} = {}\".format(score_pretty, eval(score)))"
   ]
  },
  {
   "cell_type": "code",
   "execution_count": 18,
   "metadata": {},
   "outputs": [
    {
     "name": "stdout",
     "output_type": "stream",
     "text": [
      "Variables:\n",
      "\n",
      "DST_Jets_ = 1.0\n",
      "FLEX_Jared_Cook = 1.0\n",
      "QB_Ryan_Fitzpatrick = 1.0\n",
      "RB_James_Conner = 1.0\n",
      "RB_Melvin_Gordon_III = 1.0\n",
      "TE_Jared_Cook = 1.0\n",
      "WR_DeSean_Jackson = 1.0\n",
      "WR_Emmanuel_Sanders = 1.0\n",
      "WR_Michael_Thomas = 1.0\n",
      "---------------------------------------\n",
      "\n",
      "Constraints:\n",
      "2500*1.0 + 3600*1.0 + 5500*1.0 + 6700*1.0 + 7400*1.0 + 3600*1.0 + 4900*1.0 + 6200*1.0 + 8600*1.0 = 49000.0\n",
      "---------------------------------------\n",
      "\n",
      "Score:\n",
      "17.5*1.0 + 30.0*1.0 + 39.6*1.0 + 28.9*1.0 + 30.6*1.0 + 30.0*1.0 + 30.3*1.0 + 32.5*1.0 + 37.0*1.0 = 276.4\n"
     ]
    }
   ],
   "source": [
    "summary(prob)"
   ]
  },
  {
   "cell_type": "markdown",
   "metadata": {},
   "source": [
    "## Greedy Search"
   ]
  },
  {
   "cell_type": "markdown",
   "metadata": {},
   "source": [
    "How much better is our search versus what most people do? Earlier I said that I would look at the numbers and do a relative kind of comparison, or just pick the top QB in points, then the top RB in points, and so on. That's called a greedy search. To make it fair, let's consider all possible order combinations and pick the best one."
   ]
  },
  {
   "cell_type": "code",
   "execution_count": 19,
   "metadata": {},
   "outputs": [],
   "source": [
    "def eval_players(players):\n",
    "    return sum([current[current.displayName == player].iloc[0].points for player in players])"
   ]
  },
  {
   "cell_type": "code",
   "execution_count": 20,
   "metadata": {},
   "outputs": [],
   "source": [
    "def greedy(val):\n",
    "    remaining = SALARY_CAP\n",
    "    positions = current.position.unique()\n",
    "    best_players = []\n",
    "    best_so_far = -float(\"inf\")\n",
    "    for comb_position in permutations(positions):\n",
    "        players = []\n",
    "        for pos in comb_position:\n",
    "            for _ in range(pos_num_available[pos]):\n",
    "                available = current[(~current.displayName.isin(players)) & \n",
    "                                 (current.position == pos) & \n",
    "                                 (current.salary <= remaining)]\n",
    "                if available.size > 0:\n",
    "                    best = available.sort_values(val,ascending=False).iloc[0]\n",
    "                    players.append(best.displayName)\n",
    "                    remaining -= best.salary\n",
    "        cur_eval = eval_players(players)\n",
    "        if cur_eval > best_so_far:\n",
    "            best_players = players\n",
    "            best_so_far = cur_eval\n",
    "    return best_players"
   ]
  },
  {
   "cell_type": "markdown",
   "metadata": {},
   "source": [
    "How does it do?"
   ]
  },
  {
   "cell_type": "code",
   "execution_count": 21,
   "metadata": {},
   "outputs": [
    {
     "name": "stdout",
     "output_type": "stream",
     "text": [
      "['Alvin Kamara', 'Melvin Gordon III', 'Michael Thomas', 'Tyreek Hill', 'Emmanuel Sanders', 'Ryan Fitzpatrick', 'Jared Cook']\n"
     ]
    },
    {
     "data": {
      "text/plain": [
       "234.4"
      ]
     },
     "execution_count": 21,
     "metadata": {},
     "output_type": "execute_result"
    }
   ],
   "source": [
    "greedy_points = greedy(\"points\")\n",
    "print(greedy_points)\n",
    "eval_players(greedy_points)"
   ]
  },
  {
   "cell_type": "markdown",
   "metadata": {},
   "source": [
    "About 25 points behind our optimal choice, which isn't too bad. If you notice there is only 8 choices since we ran out of money by the time we got to the end. Let's try a points per salary dollar."
   ]
  },
  {
   "cell_type": "code",
   "execution_count": 22,
   "metadata": {},
   "outputs": [],
   "source": [
    "points_per_dollar = current.points / current.salary\n",
    "current[\"points_per_dollar\"] = points_per_dollar"
   ]
  },
  {
   "cell_type": "code",
   "execution_count": 23,
   "metadata": {},
   "outputs": [
    {
     "name": "stdout",
     "output_type": "stream",
     "text": [
      "['Jalen Richard', 'James Conner', 'DeSean Jackson', 'Will Fuller V', 'Emmanuel Sanders', 'Ryan Fitzpatrick', 'Jared Cook', 'Jets ', 'Jesse James']\n"
     ]
    },
    {
     "data": {
      "text/plain": [
       "242.39999999999998"
      ]
     },
     "execution_count": 23,
     "metadata": {},
     "output_type": "execute_result"
    }
   ],
   "source": [
    "points_per_dollar = current.points / current.salary\n",
    "current[\"points_per_dollar\"] = points_per_dollar\n",
    "greedy_points = greedy(\"points_per_dollar\")\n",
    "print(greedy_points)\n",
    "eval_players(greedy_points)"
   ]
  },
  {
   "cell_type": "markdown",
   "metadata": {},
   "source": [
    "The linear programming method is not likely to bring you into elite status of Fantasy Football, but it greatly simplifies the problem. The basic assumption we were working on was that the points generated last week will be generated this week. Now all there is left is to solve for how many points we can expect a player to generate. This is a simpler problem. We can run a regression, enrich the data with other sources and look at trailing averages. But when we have our numbers, we can run it through this selection method."
   ]
  },
  {
   "cell_type": "code",
   "execution_count": null,
   "metadata": {},
   "outputs": [],
   "source": []
  }
 ],
 "metadata": {
  "kernelspec": {
   "display_name": "Python 3",
   "language": "python",
   "name": "python3"
  },
  "language_info": {
   "codemirror_mode": {
    "name": "ipython",
    "version": 3
   },
   "file_extension": ".py",
   "mimetype": "text/x-python",
   "name": "python",
   "nbconvert_exporter": "python",
   "pygments_lexer": "ipython3",
   "version": "3.6.5"
  }
 },
 "nbformat": 4,
 "nbformat_minor": 2
}
